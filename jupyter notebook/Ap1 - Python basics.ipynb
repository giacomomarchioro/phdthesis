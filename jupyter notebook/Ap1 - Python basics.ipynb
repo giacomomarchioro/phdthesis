{
 "cells": [
  {
   "cell_type": "code",
   "execution_count": null,
   "metadata": {},
   "outputs": [],
   "source": []
  },
  {
   "cell_type": "code",
   "execution_count": 1,
   "metadata": {},
   "outputs": [],
   "source": [
    "%load_ext nbtutor"
   ]
  },
  {
   "cell_type": "code",
   "execution_count": 10,
   "metadata": {},
   "outputs": [
    {
     "name": "nbtutor",
     "output_type": "stream",
     "text": []
    }
   ],
   "source": [
    "%%nbtutor -r -f\n",
    "a = 10\n",
    "b = a\n",
    "# Destroy the lst reference\n",
    "del a\n"
   ]
  },
  {
   "cell_type": "code",
   "execution_count": 11,
   "metadata": {},
   "outputs": [
    {
     "name": "nbtutor",
     "output_type": "stream",
     "text": [
      "0\n",
      "1\n",
      "2\n",
      "3\n",
      "4\n",
      "5\n"
     ]
    }
   ],
   "source": [
    "%%nbtutor -r -f\n",
    "for i in range(10):\n",
    "    print(i)"
   ]
  },
  {
   "cell_type": "code",
   "execution_count": 85,
   "metadata": {},
   "outputs": [],
   "source": [
    "from ctypes import string_at\n",
    "from sys import getsizeof\n",
    "import gc"
   ]
  },
  {
   "cell_type": "code",
   "execution_count": 100,
   "metadata": {},
   "outputs": [
    {
     "name": "stdout",
     "output_type": "stream",
     "text": [
      "['This', 'will be', 'probably', 'deleted']\n",
      "b'\\x01\\x00\\x00\\x00\\x00\\x00\\x00\\x00Pp1\\xe6\\xfe\\x07\\x00\\x00\\x06\\x00\\x00\\x00\\x00\\x00\\x00\\x00\\xaa\\xf6)F\\xfc\\x04\\x01\\xe2\\xe5>1\\xe6\\xfe\\x07\\x00\\x00\\x00\\x00\\x00\\x00\\x00\\x00\\x00\\x00surely\\x00'\n",
      "[]\n",
      "b'\\x01\\x00\\x00\\x00\\x00\\x00\\x00\\x00Pp1\\xe6\\xfe\\x07\\x00\\x00\\x06\\x00\\x00\\x00\\x00\\x00\\x00\\x00\\xaa\\xf6)F\\xfc\\x04\\x01\\xe2\\xe5>1\\xe6\\xfe\\x07\\x00\\x00\\x00\\x00\\x00\\x00\\x00\\x00\\x00\\x00surely\\x00'\n"
     ]
    }
   ],
   "source": [
    "ls = ['This','will be','surely','deleted']\n",
    "idnot= id(ls[2]) \n",
    "sizenot = getsizeof(ls[2])\n",
    "ls[2] = 'probably'\n",
    "print(ls)\n",
    "print(string_at(idnot,sizenot))\n",
    "gc.collect()\n",
    "print(gc.garbage)\n",
    "print(string_at(idnot,sizenot))"
   ]
  },
  {
   "cell_type": "code",
   "execution_count": 103,
   "metadata": {},
   "outputs": [
    {
     "name": "stdout",
     "output_type": "stream",
     "text": [
      "b'\\xb8\\x0fe\\x06\\x00\\x00\\x00\\x00Pp1\\xe6\\xfe\\x07\\x00\\x00\\x06\\x00\\x00\\x00\\x00\\x00\\x00\\x00\\xaa\\xf6)F\\xfc\\x04\\x01\\xe2\\xe5>1\\xe6\\xfe\\x07\\x00\\x00\\x00\\x00\\x00\\x00\\x00\\x00\\x00\\x00surely\\x00'\n"
     ]
    },
    {
     "data": {
      "text/plain": [
       "[]"
      ]
     },
     "execution_count": 103,
     "metadata": {},
     "output_type": "execute_result"
    }
   ],
   "source": [
    "print(string_at(idnot,sizenot))\n",
    "gc.garbage"
   ]
  },
  {
   "cell_type": "code",
   "execution_count": 104,
   "metadata": {},
   "outputs": [
    {
     "data": {
      "text/plain": [
       "80"
      ]
     },
     "execution_count": 104,
     "metadata": {},
     "output_type": "execute_result"
    }
   ],
   "source": [
    "gc.collect()"
   ]
  },
  {
   "cell_type": "code",
   "execution_count": 24,
   "metadata": {},
   "outputs": [
    {
     "name": "stdout",
     "output_type": "stream",
     "text": [
      "b'\\t\\x00\\x00\\x00\\x00\\x00\\x00\\x00Pp1\\xe6\\xfe\\x07\\x00\\x00\\x03\\x00\\x00\\x00\\x00\\x00\\x00\\x00\\x824-=\\xcf\\xbe\\xbf-\\xe5\\x00\\x00\\x00\\x00\\x00\\x00\\x00\\x00\\x00\\x00\\x00\\x00\\x00\\x00\\x00not\\x00'\n"
     ]
    }
   ],
   "source": [
    "print(string_at(idnot,sizenot))"
   ]
  },
  {
   "cell_type": "code",
   "execution_count": null,
   "metadata": {},
   "outputs": [],
   "source": []
  }
 ],
 "metadata": {
  "celltoolbar": "Visualize",
  "kernelspec": {
   "display_name": "Python 3",
   "language": "python",
   "name": "python3"
  },
  "language_info": {
   "codemirror_mode": {
    "name": "ipython",
    "version": 3
   },
   "file_extension": ".py",
   "mimetype": "text/x-python",
   "name": "python",
   "nbconvert_exporter": "python",
   "pygments_lexer": "ipython3",
   "version": "3.7.3"
  }
 },
 "nbformat": 4,
 "nbformat_minor": 2
}
