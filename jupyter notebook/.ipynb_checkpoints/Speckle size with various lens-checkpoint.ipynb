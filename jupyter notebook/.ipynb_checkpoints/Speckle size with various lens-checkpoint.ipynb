{
 "cells": [
  {
   "cell_type": "code",
   "execution_count": 27,
   "metadata": {
    "collapsed": true
   },
   "outputs": [],
   "source": [
    "import numpy as np\n",
    "import matplotlib.pyplot as plt\n",
    "class Lens:\n",
    "\n",
    "    def __init__(\n",
    "            self,\n",
    "            Name,\n",
    "            PN,\n",
    "            SN,\n",
    "            LENS_MINd,\n",
    "            LENS_MAXd,\n",
    "            Reproducibility,\n",
    "            Repeatability,\n",
    "            X_laser_Spot_Size,\n",
    "            angular_coverage):\n",
    "        self.Name = Name\n",
    "        self.PN = PN\n",
    "        self.SN = SN\n",
    "        self.LENS_MINd = LENS_MINd\n",
    "        self.LENS_MAXd = LENS_MAXd\n",
    "        self.Reproducibility = Reproducibility\n",
    "        self.Repeatability = Repeatability\n",
    "        self.X_laser_Spot_Size = X_laser_Spot_Size\n",
    "        self.angular_coverage= angular_coverage\n",
    "\n",
    "\n",
    "l50 = Lens('LENS 50mm', '3Z81050', 22263, 40, 48, 1, 0.1, 37,170)\n",
    "l50bis = Lens('LENS 50mm', '3Z81050', 30225, 42, 46, 1, 0.1, 37,170)\n",
    "l75 = Lens('LENS 75 mm', '3Z81075', 30225, 61, 79, 2, 0.3, 47,170)\n",
    "l100 = Lens('LENS 100 mm', '3Z81100', 30225, 77.5, 112.5, 4, 0.5, 63,170)\n",
    "l200 = Lens('LENS 200 mm', '3Z82007', 30225, 137.5, 262.5, 25, 3, 105,170)\n",
    "l50t = Lens('LENS=50mm T', '3Z81050T', 30246, 41, 43, 0.5, 0.1, 19,150)\n",
    "l25a = Lens('LENS=25mm A', '3Z8103', 3024630225, 17.95, 18.55, 0.2, 0.06, 12,150)\n",
    "l25N = Lens('LENS=25mm N', '3Z79030', 000000, 15.9, 16.9, 0.06, 0.06,5,5)\n",
    "l50N = Lens('LENS=50mm N','3Z799050',000000,37.5,42.5,0,0,16,3)\n",
    "l75N = Lens('LENS=75mm N','3Z799050',000000,60.5,69.5,0,0,25,1.5)\n",
    "\n",
    "diclens = {\n",
    "    \"l50\": l50,\n",
    "    \"l50bis\": l50bis,\n",
    "    \"l75\": l75,\n",
    "    \"l100\": l100,\n",
    "    \"l200\": l200,\n",
    "    \"l50H\": l50t,\n",
    "    \"l25A\": l25a,\n",
    "    \"l25N\": l25N,\n",
    "    \"l50N\": l50N,\n",
    "    \"l75N\": l75N,\n",
    "    }\n"
   ]
  },
  {
   "cell_type": "markdown",
   "metadata": {},
   "source": []
  },
  {
   "cell_type": "code",
   "execution_count": 76,
   "metadata": {
    "collapsed": true
   },
   "outputs": [],
   "source": [
    "laser_nm = 655\n",
    "z_cm = 12\n",
    "aperture_cm = 3\n",
    "f = 10"
   ]
  },
  {
   "cell_type": "code",
   "execution_count": 88,
   "metadata": {},
   "outputs": [],
   "source": [
    "def get_size(z1):\n",
    "    laser_nm = 655\n",
    "    z_cm = 12\n",
    "    aperture_cm = 0.5\n",
    "    sized = (1.22*laser_nm/float(aperture_cm))*(z_cm + z1*(1 - z_cm/float(f)))\n",
    "    return sized"
   ]
  },
  {
   "cell_type": "code",
   "execution_count": 89,
   "metadata": {
    "collapsed": true
   },
   "outputs": [],
   "source": [
    "def get_simplesize(z1):\n",
    "    laser_nm = 655\n",
    "    aperture_cm = 0.5\n",
    "    return (z1*laser_nm*1.22)/float(aperture_cm)\n",
    "    "
   ]
  },
  {
   "cell_type": "code",
   "execution_count": 90,
   "metadata": {},
   "outputs": [],
   "source": [
    "G = np.linspace(diclens[\"l50\"].LENS_MINd/10.,diclens[\"l50\"].LENS_MAXd/10.,50)"
   ]
  },
  {
   "cell_type": "code",
   "execution_count": 91,
   "metadata": {
    "collapsed": true
   },
   "outputs": [],
   "source": [
    "def get_wrange(lens):\n",
    "    return np.linspace(lens.LENS_MINd/10.,lens.LENS_MAXd/10.,50)"
   ]
  },
  {
   "cell_type": "code",
   "execution_count": 92,
   "metadata": {},
   "outputs": [
    {
     "data": {
      "text/plain": [
       "array([ 4.        ,  4.01632653,  4.03265306,  4.04897959,  4.06530612,\n",
       "        4.08163265,  4.09795918,  4.11428571,  4.13061224,  4.14693878,\n",
       "        4.16326531,  4.17959184,  4.19591837,  4.2122449 ,  4.22857143,\n",
       "        4.24489796,  4.26122449,  4.27755102,  4.29387755,  4.31020408,\n",
       "        4.32653061,  4.34285714,  4.35918367,  4.3755102 ,  4.39183673,\n",
       "        4.40816327,  4.4244898 ,  4.44081633,  4.45714286,  4.47346939,\n",
       "        4.48979592,  4.50612245,  4.52244898,  4.53877551,  4.55510204,\n",
       "        4.57142857,  4.5877551 ,  4.60408163,  4.62040816,  4.63673469,\n",
       "        4.65306122,  4.66938776,  4.68571429,  4.70204082,  4.71836735,\n",
       "        4.73469388,  4.75102041,  4.76734694,  4.78367347,  4.8       ])"
      ]
     },
     "execution_count": 92,
     "metadata": {},
     "output_type": "execute_result"
    }
   ],
   "source": [
    "G"
   ]
  },
  {
   "cell_type": "code",
   "execution_count": 93,
   "metadata": {},
   "outputs": [],
   "source": [
    "sized_um = [get_size(i) for i in G]"
   ]
  },
  {
   "cell_type": "code",
   "execution_count": 94,
   "metadata": {},
   "outputs": [
    {
     "data": {
      "text/plain": [
       "[<matplotlib.lines.Line2D at 0x7f36480008d0>]"
      ]
     },
     "execution_count": 94,
     "metadata": {},
     "output_type": "execute_result"
    },
    {
     "data": {
      "image/png": "[encoded data removed]",
      "text/plain": [
       "<matplotlib.figure.Figure at 0x7f36482009d0>"
      ]
     },
     "metadata": {},
     "output_type": "display_data"
    }
   ],
   "source": [
    "plt.plot(G,sized_um)"
   ]
  },
  {
   "cell_type": "code",
   "execution_count": 95,
   "metadata": {
    "collapsed": true
   },
   "outputs": [],
   "source": [
    "sized_um = [get_simplesize(i)/1000 for i in G]"
   ]
  },
  {
   "cell_type": "code",
   "execution_count": 96,
   "metadata": {},
   "outputs": [
    {
     "data": {
      "text/plain": [
       "<matplotlib.legend.Legend at 0x7f36480bac10>"
      ]
     },
     "execution_count": 96,
     "metadata": {},
     "output_type": "execute_result"
    },
    {
     "data": {
      "image/png": "[encoded data removed]",
      "text/plain": [
       "<matplotlib.figure.Figure at 0x7f36480baa90>"
      ]
     },
     "metadata": {},
     "output_type": "display_data"
    }
   ],
   "source": [
    "for i in diclens:\n",
    "    G = get_wrange(diclens[i])\n",
    "    sized_um = [get_simplesize(j)/1000 for j in G]\n",
    "    plt.plot(G,sized_um,label = i)\n",
    "plt.xlabel('Object distance (cm)')\n",
    "plt.ylabel('Speckle dimension ($\\mu m$)')\n",
    "plt.legend()"
   ]
  },
  {
   "cell_type": "code",
   "execution_count": null,
   "metadata": {
    "collapsed": true
   },
   "outputs": [],
   "source": []
  }
 ],
 "metadata": {
  "kernelspec": {
   "display_name": "Python 3",
   "language": "python",
   "name": "python3"
  },
  "language_info": {
   "codemirror_mode": {
    "name": "ipython",
    "version": 3
   },
   "file_extension": ".py",
   "mimetype": "text/x-python",
   "name": "python",
   "nbconvert_exporter": "python",
   "pygments_lexer": "ipython3",
   "version": "3.6.8"
  }
 },
 "nbformat": 4,
 "nbformat_minor": 2
}
