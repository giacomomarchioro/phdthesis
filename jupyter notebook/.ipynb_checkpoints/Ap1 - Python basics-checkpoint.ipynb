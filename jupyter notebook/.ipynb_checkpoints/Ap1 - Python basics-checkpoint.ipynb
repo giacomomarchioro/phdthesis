{
 "cells": [
  {
   "cell_type": "code",
   "execution_count": 2,
   "metadata": {},
   "outputs": [
    {
     "name": "stdout",
     "output_type": "stream",
     "text": [
      "Collecting nbtutor\n",
      "\u001b[?25l  Downloading https://files.pythonhosted.org/packages/f3/5f/6f708ff28031faba4ebb15be60f8de10771267578484279f114e5483cfde/nbtutor-1.0.4-py2.py3-none-any.whl (272kB)\n",
      "\u001b[K     |████████████████████████████████| 276kB 1.4MB/s eta 0:00:01\n",
      "\u001b[?25hRequirement already satisfied: notebook in /Users/giacomo/anaconda3/lib/python3.6/site-packages (from nbtutor) (5.7.8)\n",
      "Requirement already satisfied: ipython-genutils in /Users/giacomo/anaconda3/lib/python3.6/site-packages (from notebook->nbtutor) (0.2.0)\n",
      "Requirement already satisfied: jinja2 in /Users/giacomo/anaconda3/lib/python3.6/site-packages (from notebook->nbtutor) (2.10.1)\n",
      "Requirement already satisfied: ipykernel in /Users/giacomo/anaconda3/lib/python3.6/site-packages (from notebook->nbtutor) (5.1.0)\n",
      "Requirement already satisfied: jupyter-client>=5.2.0 in /Users/giacomo/anaconda3/lib/python3.6/site-packages (from notebook->nbtutor) (5.2.4)\n",
      "Requirement already satisfied: Send2Trash in /Users/giacomo/anaconda3/lib/python3.6/site-packages (from notebook->nbtutor) (1.5.0)\n",
      "Requirement already satisfied: nbformat in /Users/giacomo/anaconda3/lib/python3.6/site-packages (from notebook->nbtutor) (4.4.0)\n",
      "Requirement already satisfied: tornado<7,>=4.1 in /Users/giacomo/anaconda3/lib/python3.6/site-packages (from notebook->nbtutor) (6.0.2)\n",
      "Requirement already satisfied: prometheus-client in /Users/giacomo/anaconda3/lib/python3.6/site-packages (from notebook->nbtutor) (0.6.0)\n",
      "Requirement already satisfied: pyzmq>=17 in /Users/giacomo/anaconda3/lib/python3.6/site-packages (from notebook->nbtutor) (18.0.0)\n",
      "Requirement already satisfied: jupyter-core>=4.4.0 in /Users/giacomo/anaconda3/lib/python3.6/site-packages (from notebook->nbtutor) (4.4.0)\n",
      "Requirement already satisfied: nbconvert in /Users/giacomo/anaconda3/lib/python3.6/site-packages (from notebook->nbtutor) (5.5.0)\n",
      "Requirement already satisfied: terminado>=0.8.1 in /Users/giacomo/anaconda3/lib/python3.6/site-packages (from notebook->nbtutor) (0.8.2)\n",
      "Requirement already satisfied: traitlets>=4.2.1 in /Users/giacomo/anaconda3/lib/python3.6/site-packages (from notebook->nbtutor) (4.3.2)\n",
      "Requirement already satisfied: MarkupSafe>=0.23 in /Users/giacomo/anaconda3/lib/python3.6/site-packages (from jinja2->notebook->nbtutor) (1.1.1)\n",
      "Requirement already satisfied: ipython>=5.0.0 in /Users/giacomo/anaconda3/lib/python3.6/site-packages (from ipykernel->notebook->nbtutor) (7.5.0)\n",
      "Requirement already satisfied: python-dateutil>=2.1 in /Users/giacomo/anaconda3/lib/python3.6/site-packages (from jupyter-client>=5.2.0->notebook->nbtutor) (2.8.0)\n",
      "Requirement already satisfied: jsonschema!=2.5.0,>=2.4 in /Users/giacomo/anaconda3/lib/python3.6/site-packages (from nbformat->notebook->nbtutor) (3.0.1)\n",
      "Requirement already satisfied: pandocfilters>=1.4.1 in /Users/giacomo/anaconda3/lib/python3.6/site-packages (from nbconvert->notebook->nbtutor) (1.4.2)\n",
      "Requirement already satisfied: bleach in /Users/giacomo/anaconda3/lib/python3.6/site-packages (from nbconvert->notebook->nbtutor) (3.1.0)\n",
      "Requirement already satisfied: defusedxml in /Users/giacomo/anaconda3/lib/python3.6/site-packages (from nbconvert->notebook->nbtutor) (0.6.0)\n",
      "Requirement already satisfied: mistune>=0.8.1 in /Users/giacomo/anaconda3/lib/python3.6/site-packages (from nbconvert->notebook->nbtutor) (0.8.4)\n",
      "Requirement already satisfied: entrypoints>=0.2.2 in /Users/giacomo/anaconda3/lib/python3.6/site-packages (from nbconvert->notebook->nbtutor) (0.3)\n",
      "Requirement already satisfied: testpath in /Users/giacomo/anaconda3/lib/python3.6/site-packages (from nbconvert->notebook->nbtutor) (0.4.2)\n",
      "Requirement already satisfied: pygments in /Users/giacomo/anaconda3/lib/python3.6/site-packages (from nbconvert->notebook->nbtutor) (2.3.1)\n",
      "Requirement already satisfied: six in /Users/giacomo/anaconda3/lib/python3.6/site-packages (from traitlets>=4.2.1->notebook->nbtutor) (1.10.0)\n",
      "Requirement already satisfied: decorator in /Users/giacomo/anaconda3/lib/python3.6/site-packages (from traitlets>=4.2.1->notebook->nbtutor) (4.4.0)\n",
      "Requirement already satisfied: pickleshare in /Users/giacomo/anaconda3/lib/python3.6/site-packages (from ipython>=5.0.0->ipykernel->notebook->nbtutor) (0.7.5)\n",
      "Requirement already satisfied: setuptools>=18.5 in /Users/giacomo/anaconda3/lib/python3.6/site-packages (from ipython>=5.0.0->ipykernel->notebook->nbtutor) (41.0.1)\n",
      "Requirement already satisfied: prompt-toolkit<2.1.0,>=2.0.0 in /Users/giacomo/anaconda3/lib/python3.6/site-packages (from ipython>=5.0.0->ipykernel->notebook->nbtutor) (2.0.9)\n",
      "Requirement already satisfied: appnope; sys_platform == \"darwin\" in /Users/giacomo/anaconda3/lib/python3.6/site-packages (from ipython>=5.0.0->ipykernel->notebook->nbtutor) (0.1.0)\n",
      "Requirement already satisfied: jedi>=0.10 in /Users/giacomo/anaconda3/lib/python3.6/site-packages (from ipython>=5.0.0->ipykernel->notebook->nbtutor) (0.13.3)\n",
      "Requirement already satisfied: pexpect; sys_platform != \"win32\" in /Users/giacomo/anaconda3/lib/python3.6/site-packages (from ipython>=5.0.0->ipykernel->notebook->nbtutor) (4.7.0)\n",
      "Requirement already satisfied: backcall in /Users/giacomo/anaconda3/lib/python3.6/site-packages (from ipython>=5.0.0->ipykernel->notebook->nbtutor) (0.1.0)\n",
      "Requirement already satisfied: attrs>=17.4.0 in /Users/giacomo/anaconda3/lib/python3.6/site-packages (from jsonschema!=2.5.0,>=2.4->nbformat->notebook->nbtutor) (19.1.0)\n",
      "Requirement already satisfied: pyrsistent>=0.14.0 in /Users/giacomo/anaconda3/lib/python3.6/site-packages (from jsonschema!=2.5.0,>=2.4->nbformat->notebook->nbtutor) (0.14.11)\n",
      "Requirement already satisfied: webencodings in /Users/giacomo/anaconda3/lib/python3.6/site-packages (from bleach->nbconvert->notebook->nbtutor) (0.5.1)\n",
      "Requirement already satisfied: wcwidth in /Users/giacomo/anaconda3/lib/python3.6/site-packages (from prompt-toolkit<2.1.0,>=2.0.0->ipython>=5.0.0->ipykernel->notebook->nbtutor) (0.1.7)\n",
      "Requirement already satisfied: parso>=0.3.0 in /Users/giacomo/anaconda3/lib/python3.6/site-packages (from jedi>=0.10->ipython>=5.0.0->ipykernel->notebook->nbtutor) (0.4.0)\n",
      "Requirement already satisfied: ptyprocess>=0.5 in /Users/giacomo/anaconda3/lib/python3.6/site-packages (from pexpect; sys_platform != \"win32\"->ipython>=5.0.0->ipykernel->notebook->nbtutor) (0.6.0)\n",
      "Installing collected packages: nbtutor\n",
      "Successfully installed nbtutor-1.0.4\n",
      "Installing /Users/giacomo/anaconda3/lib/python3.6/site-packages/nbtutor/static/nbtutor -> nbtutor\n",
      "Traceback (most recent call last):\n",
      "  File \"/Users/giacomo/anaconda3/bin/jupyter-nbextension\", line 11, in <module>\n",
      "    sys.exit(main())\n",
      "  File \"/Users/giacomo/anaconda3/lib/python3.6/site-packages/jupyter_core/application.py\", line 266, in launch_instance\n",
      "    return super(JupyterApp, cls).launch_instance(argv=argv, **kwargs)\n",
      "  File \"/Users/giacomo/anaconda3/lib/python3.6/site-packages/traitlets/config/application.py\", line 658, in launch_instance\n",
      "    app.start()\n",
      "  File \"/Users/giacomo/anaconda3/lib/python3.6/site-packages/notebook/nbextensions.py\", line 988, in start\n",
      "    super(NBExtensionApp, self).start()\n",
      "  File \"/Users/giacomo/anaconda3/lib/python3.6/site-packages/jupyter_core/application.py\", line 255, in start\n",
      "    self.subapp.start()\n",
      "  File \"/Users/giacomo/anaconda3/lib/python3.6/site-packages/notebook/nbextensions.py\", line 716, in start\n",
      "    self.install_extensions()\n",
      "  File \"/Users/giacomo/anaconda3/lib/python3.6/site-packages/notebook/nbextensions.py\", line 695, in install_extensions\n",
      "    **kwargs\n",
      "  File \"/Users/giacomo/anaconda3/lib/python3.6/site-packages/notebook/nbextensions.py\", line 225, in install_nbextension_python\n",
      "    destination=dest, logger=logger\n",
      "  File \"/Users/giacomo/anaconda3/lib/python3.6/site-packages/notebook/nbextensions.py\", line 126, in install_nbextension\n",
      "    ensure_dir_exists(nbext)\n",
      "  File \"/Users/giacomo/anaconda3/lib/python3.6/site-packages/jupyter_core/utils/__init__.py\", line 13, in ensure_dir_exists\n",
      "    os.makedirs(path, mode=mode)\n",
      "  File \"/Users/giacomo/anaconda3/lib/python3.6/os.py\", line 210, in makedirs\n",
      "    makedirs(head, mode, exist_ok)\n",
      "  File \"/Users/giacomo/anaconda3/lib/python3.6/os.py\", line 220, in makedirs\n",
      "    mkdir(name, mode)\n",
      "PermissionError: [Errno 13] Permission denied: '/usr/local/share/jupyter'\n"
     ]
    },
    {
     "name": "stdout",
     "output_type": "stream",
     "text": [
      "Enabling notebook extension nbtutor/js/nbtutor.min...\r\n",
      "      - Validating: problems found:\r\n",
      "        - require? \u001b[31m X\u001b[0m nbtutor/js/nbtutor.min\r\n"
     ]
    }
   ],
   "source": [
    "!pip install nbtutor\n",
    "!jupyter nbextension install --overwrite --py nbtutor\n",
    "!jupyter nbextension enable --py nbtutor"
   ]
  },
  {
   "cell_type": "code",
   "execution_count": 6,
   "metadata": {},
   "outputs": [
    {
     "name": "stdout",
     "output_type": "stream",
     "text": [
      "The nbtutor extension is already loaded. To reload it, use:\n",
      "  %reload_ext nbtutor\n"
     ]
    }
   ],
   "source": [
    "%load_ext nbtutor"
   ]
  },
  {
   "cell_type": "code",
   "execution_count": 7,
   "metadata": {},
   "outputs": [
    {
     "name": "stderr",
     "output_type": "stream",
     "text": [
      "ERROR:root:Invalid alias: The name clear can't be aliased because it is another magic command.\n",
      "ERROR:root:Invalid alias: The name more can't be aliased because it is another magic command.\n",
      "ERROR:root:Invalid alias: The name less can't be aliased because it is another magic command.\n",
      "ERROR:root:Invalid alias: The name man can't be aliased because it is another magic command.\n"
     ]
    }
   ],
   "source": [
    "%%nbtutor -r -f\n",
    "a = 10\n",
    "b = a\n",
    "# Destroy the lst reference\n",
    "del a\n"
   ]
  },
  {
   "cell_type": "code",
   "execution_count": 8,
   "metadata": {},
   "outputs": [
    {
     "name": "stderr",
     "output_type": "stream",
     "text": [
      "ERROR:root:Invalid alias: The name clear can't be aliased because it is another magic command.\n",
      "ERROR:root:Invalid alias: The name more can't be aliased because it is another magic command.\n",
      "ERROR:root:Invalid alias: The name less can't be aliased because it is another magic command.\n",
      "ERROR:root:Invalid alias: The name man can't be aliased because it is another magic command.\n"
     ]
    },
    {
     "name": "stdout",
     "output_type": "stream",
     "text": [
      "0\n",
      "1\n",
      "2\n",
      "3\n",
      "4\n",
      "5\n",
      "6\n",
      "7\n",
      "8\n",
      "9\n"
     ]
    }
   ],
   "source": [
    "%%nbtutor -r -f\n",
    "for i in range(10):\n",
    "    print(i)"
   ]
  },
  {
   "cell_type": "code",
   "execution_count": 85,
   "metadata": {},
   "outputs": [],
   "source": [
    "from ctypes import string_at\n",
    "from sys import getsizeof\n",
    "import gc"
   ]
  },
  {
   "cell_type": "code",
   "execution_count": 100,
   "metadata": {},
   "outputs": [
    {
     "name": "stdout",
     "output_type": "stream",
     "text": [
      "['This', 'will be', 'probably', 'deleted']\n",
      "b'\\x01\\x00\\x00\\x00\\x00\\x00\\x00\\x00Pp1\\xe6\\xfe\\x07\\x00\\x00\\x06\\x00\\x00\\x00\\x00\\x00\\x00\\x00\\xaa\\xf6)F\\xfc\\x04\\x01\\xe2\\xe5>1\\xe6\\xfe\\x07\\x00\\x00\\x00\\x00\\x00\\x00\\x00\\x00\\x00\\x00surely\\x00'\n",
      "[]\n",
      "b'\\x01\\x00\\x00\\x00\\x00\\x00\\x00\\x00Pp1\\xe6\\xfe\\x07\\x00\\x00\\x06\\x00\\x00\\x00\\x00\\x00\\x00\\x00\\xaa\\xf6)F\\xfc\\x04\\x01\\xe2\\xe5>1\\xe6\\xfe\\x07\\x00\\x00\\x00\\x00\\x00\\x00\\x00\\x00\\x00\\x00surely\\x00'\n"
     ]
    }
   ],
   "source": [
    "ls = ['This','will be','surely','deleted']\n",
    "idnot= id(ls[2]) \n",
    "sizenot = getsizeof(ls[2])\n",
    "ls[2] = 'probably'\n",
    "print(ls)\n",
    "print(string_at(idnot,sizenot))\n",
    "gc.collect()\n",
    "print(gc.garbage)\n",
    "print(string_at(idnot,sizenot))"
   ]
  },
  {
   "cell_type": "code",
   "execution_count": 103,
   "metadata": {},
   "outputs": [
    {
     "name": "stdout",
     "output_type": "stream",
     "text": [
      "b'\\xb8\\x0fe\\x06\\x00\\x00\\x00\\x00Pp1\\xe6\\xfe\\x07\\x00\\x00\\x06\\x00\\x00\\x00\\x00\\x00\\x00\\x00\\xaa\\xf6)F\\xfc\\x04\\x01\\xe2\\xe5>1\\xe6\\xfe\\x07\\x00\\x00\\x00\\x00\\x00\\x00\\x00\\x00\\x00\\x00surely\\x00'\n"
     ]
    },
    {
     "data": {
      "text/plain": [
       "[]"
      ]
     },
     "execution_count": 103,
     "metadata": {},
     "output_type": "execute_result"
    }
   ],
   "source": [
    "print(string_at(idnot,sizenot))\n",
    "gc.garbage"
   ]
  },
  {
   "cell_type": "code",
   "execution_count": 104,
   "metadata": {},
   "outputs": [
    {
     "data": {
      "text/plain": [
       "80"
      ]
     },
     "execution_count": 104,
     "metadata": {},
     "output_type": "execute_result"
    }
   ],
   "source": [
    "gc.collect()"
   ]
  },
  {
   "cell_type": "code",
   "execution_count": 24,
   "metadata": {},
   "outputs": [
    {
     "name": "stdout",
     "output_type": "stream",
     "text": [
      "b'\\t\\x00\\x00\\x00\\x00\\x00\\x00\\x00Pp1\\xe6\\xfe\\x07\\x00\\x00\\x03\\x00\\x00\\x00\\x00\\x00\\x00\\x00\\x824-=\\xcf\\xbe\\xbf-\\xe5\\x00\\x00\\x00\\x00\\x00\\x00\\x00\\x00\\x00\\x00\\x00\\x00\\x00\\x00\\x00not\\x00'\n"
     ]
    }
   ],
   "source": [
    "print(string_at(idnot,sizenot))"
   ]
  },
  {
   "cell_type": "code",
   "execution_count": null,
   "metadata": {},
   "outputs": [],
   "source": []
  }
 ],
 "metadata": {
  "celltoolbar": "Visualize",
  "kernelspec": {
   "display_name": "Python 3",
   "language": "python",
   "name": "python3"
  },
  "language_info": {
   "codemirror_mode": {
    "name": "ipython",
    "version": 3
   },
   "file_extension": ".py",
   "mimetype": "text/x-python",
   "name": "python",
   "nbconvert_exporter": "python",
   "pygments_lexer": "ipython3",
   "version": "3.6.8"
  }
 },
 "nbformat": 4,
 "nbformat_minor": 2
}
