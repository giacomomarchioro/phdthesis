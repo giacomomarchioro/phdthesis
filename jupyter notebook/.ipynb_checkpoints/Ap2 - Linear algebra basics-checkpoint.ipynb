{
 "cells": [
  {
   "cell_type": "markdown",
   "metadata": {},
   "source": [
    "# Basics Linear Algebra\n",
    "\n",
    "To understand many operation performed on surfaces and profiles a minimum knowledge of vectors and linear algebra is required\n",
    "\n",
    "## Vectors\n",
    "Vectors are in fact point in an abstract n-dimensional space. Hence vectors can describe a lot of things: drawing, 3D model for computer graphics, electric signals etc. etc.   Because they are points, we can describe them using different forms, for instance as a ordered sequence of number. A point can be defined in a two dimensional space with a tuple, like (2,3) where the first term, by a convention, indicates the position on the x axis and the second term the position on the y axis. However, many time we define points as vector because we want to specify a set of operations to manipulate these kind of object. In physics usually vector are visualized as arrows but this is actually only a way to visualize them. In this case you could define their lenght (called **modulo** and the angle the **direction** as a tuple but we will use the previous definition at the begining were each number describe the x and y in a cartesian plane."
   ]
  },
  {
   "cell_type": "code",
   "execution_count": 6,
   "metadata": {},
   "outputs": [],
   "source": [
    "import matplotlib.pyplot as plt\n"
   ]
  },
  {
   "cell_type": "markdown",
   "metadata": {},
   "source": [
    "We call each number **component**. In this case we can acces each component using this notation `a[0]` for the first component _x_ and `a[1]` for the second component _y_ ."
   ]
  },
  {
   "cell_type": "code",
   "execution_count": 21,
   "metadata": {},
   "outputs": [
    {
     "data": {
      "text/plain": [
       "<matplotlib.collections.PathCollection at 0x11d9150b8>"
      ]
     },
     "execution_count": 21,
     "metadata": {},
     "output_type": "execute_result"
    },
    {
     "data": {
      "image/png": "[encoded data removed]",
      "text/plain": [
       "<Figure size 432x288 with 1 Axes>"
      ]
     },
     "metadata": {
      "needs_background": "light"
     },
     "output_type": "display_data"
    }
   ],
   "source": [
    "\n",
    "plt.scatter(a[0],a[1])\n",
    "plt.arrow(0,0,a[0],a[1],head_width=0.2)\n",
    "plt.xlim(0,9)\n",
    "plt.ylim(0,9)\n",
    "plt.scatter(a[0]*2,a[1]*2)\n"
   ]
  },
  {
   "cell_type": "markdown",
   "metadata": {},
   "source": [
    "Now if we want to define a group of vectors we could write something like this: ((3,4),(5,4),(4,6))\n",
    "Ploting this would be plot each vector separately:"
   ]
  },
  {
   "cell_type": "code",
   "execution_count": 9,
   "metadata": {},
   "outputs": [
    {
     "data": {
      "text/plain": [
       "(0, 13)"
      ]
     },
     "execution_count": 9,
     "metadata": {},
     "output_type": "execute_result"
    },
    {
     "data": {
      "image/png": "[encoded data removed]",
      "text/plain": [
       "<Figure size 432x288 with 1 Axes>"
      ]
     },
     "metadata": {
      "needs_background": "light"
     },
     "output_type": "display_data"
    }
   ],
   "source": [
    "group = ((2,3),(4,3),(3,6))\n",
    "for i in group:\n",
    "    plt.scatter(i[0],i[1])\n",
    "    #plt.arrow(0,0,i[0],i[1],head_width=0.2)\n",
    "\n",
    "plt.xlim(0,9)\n",
    "plt.ylim(0,13)"
   ]
  },
  {
   "cell_type": "markdown",
   "metadata": {},
   "source": [
    "We want to apply the same operation to each vector, for instance the multiplication, we define a variable s = 2 to be used to multiply each vector as we did for the previous example:"
   ]
  },
  {
   "cell_type": "code",
   "execution_count": 10,
   "metadata": {},
   "outputs": [
    {
     "data": {
      "text/plain": [
       "(0, 13)"
      ]
     },
     "execution_count": 10,
     "metadata": {},
     "output_type": "execute_result"
    },
    {
     "data": {
      "image/png": "[encoded data removed]",
      "text/plain": [
       "<Figure size 432x288 with 1 Axes>"
      ]
     },
     "metadata": {
      "needs_background": "light"
     },
     "output_type": "display_data"
    }
   ],
   "source": [
    "group = ((2,3),(4,3),(3,6))\n",
    "s = 2\n",
    "for i in group:\n",
    "    # we multiply each component of the vectory by the variable s (which is 2)\n",
    "    plt.scatter(i[0]*s, # This becomes x*s\n",
    "                i[1]*s, # This becomes y*s\n",
    "                color='r')\n",
    "    # we keep as reference also the previous trianlge in grey\n",
    "    plt.scatter(i[0],i[1],color='gray')\n",
    "    # plt.arrow(0,0,i[0],i[1],head_width=0.2)\n",
    "\n",
    "plt.xlim(0,9)\n",
    "plt.ylim(0,13)"
   ]
  },
  {
   "cell_type": "markdown",
   "metadata": {},
   "source": [
    "We can notice that mutiplying each component of the group of vectors by a number, we have actually scaled the original triangle making it bigger. We call hence **s** scalar, this is actually the [scalar multiplication](https://en.wikipedia.org/wiki/Scalar_multiplication).  We could perform other operation like translate the tringle addin or subtracting to each component a scalar. Like in this example:"
   ]
  },
  {
   "cell_type": "code",
   "execution_count": 11,
   "metadata": {},
   "outputs": [
    {
     "data": {
      "text/plain": [
       "(0, 13)"
      ]
     },
     "execution_count": 11,
     "metadata": {},
     "output_type": "execute_result"
    },
    {
     "data": {
      "image/png": "[encoded data removed]",
      "text/plain": [
       "<Figure size 432x288 with 1 Axes>"
      ]
     },
     "metadata": {
      "needs_background": "light"
     },
     "output_type": "display_data"
    }
   ],
   "source": [
    "from ipywidgets import interact, interactive, fixed, interact_manual\n",
    "import ipywidgets as widgets\n",
    "s1  = 2\n",
    "for i in group:\n",
    "    # we multiply each component of the vectory by the variable s (which is 2)\n",
    "    plt.scatter(i[0]+s,i[1]+s,color='r')\n",
    "    # we keep also the previous trianlge\n",
    "    plt.scatter(i[0],i[1],color='gray')\n",
    "    #plt.arrow(0,0,i[0],i[1],head_width=0.2)\n",
    "\n",
    "plt.xlim(0,9)\n",
    "plt.ylim(0,13)"
   ]
  },
  {
   "cell_type": "code",
   "execution_count": 15,
   "metadata": {},
   "outputs": [
    {
     "data": {
      "application/vnd.jupyter.widget-view+json": {
       "model_id": "46b4509679bc4e86822d9d8c1837a0a1",
       "version_major": 2,
       "version_minor": 0
      },
      "text/plain": [
       "interactive(children=(FloatSlider(value=2.5, description='sx', max=5.0), FloatSlider(value=2.5, description='s…"
      ]
     },
     "metadata": {},
     "output_type": "display_data"
    }
   ],
   "source": [
    "@interact(sx=(0.0,5), sy=(0.0,5))\n",
    "def vector_addition(sx,sy):\n",
    "    for i in group:\n",
    "        # we multiply each component of the vectory by the variable s (which is 2)\n",
    "        plt.scatter(i[0]+sx,i[1]+sy,color='r')\n",
    "        # we keep also the previous trianlge\n",
    "        plt.scatter(i[0],i[1],color='gray')\n",
    "        #plt.arrow(0,0,i[0],i[1],head_width=0.2)\n",
    "\n",
    "    plt.xlim(0,9)\n",
    "    plt.ylim(0,13)"
   ]
  },
  {
   "cell_type": "markdown",
   "metadata": {},
   "source": [
    "We saw how to scale and translate the triangle now the next problem is how to rotate it. The first thing we have to decide when we rotate an object is the center of rotation. In this case we start rotating the obejct around the origin of the axis (0,0). So first we draw some circles sarting with from the origin and with the radius equal to the distance of the point vector to the origine that we can easily calculate using pythagora."
   ]
  },
  {
   "cell_type": "code",
   "execution_count": 55,
   "metadata": {},
   "outputs": [
    {
     "data": {
      "image/png": "[encoded data removed]",
      "text/plain": [
       "<Figure size 432x288 with 1 Axes>"
      ]
     },
     "metadata": {
      "needs_background": "light"
     },
     "output_type": "display_data"
    }
   ],
   "source": [
    "def plot_group(group):\n",
    "    fig = plt.figure()\n",
    "    ax = fig.add_subplot(111)\n",
    "    for i in group:\n",
    "        r = (i[0]**2+i[1]**2)**0.5 # find the hyptoen our radius using Pythogora therome\n",
    "        circle = plt.Circle((0, 0), r, fill=False,linestyle='--')\n",
    "        ax.add_artist(circle)\n",
    "        ax.scatter(i[0],i[1])\n",
    "\n",
    "\n",
    "    # change default range so that new circles will work\n",
    "    ax.set_xlim((0, 10))\n",
    "    ax.set_ylim((-2, 10))\n",
    "    ax.set_aspect('equal')\n",
    "plot_group(group)"
   ]
  },
  {
   "cell_type": "markdown",
   "metadata": {},
   "source": [
    "# Digression on goniometric if you need it\n",
    "So now the problem is how can I move the point along the circles of a precice angle?\n",
    "Some goniometric basics are needed for understading how to move the point. Let's start with simplest case a single point with y = 0."
   ]
  },
  {
   "cell_type": "code",
   "execution_count": 57,
   "metadata": {},
   "outputs": [
    {
     "data": {
      "image/png": "[encoded data removed]",
      "text/plain": [
       "<Figure size 432x288 with 1 Axes>"
      ]
     },
     "metadata": {
      "needs_background": "light"
     },
     "output_type": "display_data"
    }
   ],
   "source": [
    "point=[(4,0)]\n",
    "plot_group(point)"
   ]
  },
  {
   "cell_type": "code",
   "execution_count": 62,
   "metadata": {},
   "outputs": [
    {
     "data": {
      "application/vnd.jupyter.widget-view+json": {
       "model_id": "417e82bd10634b0cab1c3f6cdac50d36",
       "version_major": 2,
       "version_minor": 0
      },
      "text/plain": [
       "interactive(children=(IntSlider(value=0, description='alpha', max=90, min=-90), Output()), _dom_classes=('widg…"
      ]
     },
     "metadata": {},
     "output_type": "display_data"
    }
   ],
   "source": [
    "import math\n",
    "# we define a function to covert radians to angle\n",
    "def ang2rad(angle):\n",
    "    return math.pi/180*angle\n",
    "\n",
    "@interact(alpha=(-90,90))\n",
    "def move_point_at_angle(alpha):\n",
    "    r = 4\n",
    "    new_y = r*math.sin(ang2rad(alpha))\n",
    "    new_x = r*math.cos(ang2rad(alpha))\n",
    "    plot_group([(4,0),(new_x,new_y)])\n",
    "    plt.vlines(x=new_x,ymin=0,ymax=new_y,linestyles='--')\n",
    "    plt.hlines(y=new_y,xmin=0,xmax=new_x,linestyles='--')"
   ]
  },
  {
   "cell_type": "code",
   "execution_count": 45,
   "metadata": {},
   "outputs": [],
   "source": [
    "import tracemalloc\n",
    "\n",
    "# Store 25 frames\n",
    "tracemalloc.start(25)\n",
    "\n",
    "a = 3\n",
    "b = 'ciao'\n",
    "d = b[3]\n",
    "def test(r,c):\n",
    "    return r + c\n",
    "h = test(3,a)\n",
    "hh = np.random.random((10000,1000))\n",
    "snapshot = tracemalloc.take_snapshot()\n",
    "top_stats = snapshot.statistics('traceback')"
   ]
  },
  {
   "cell_type": "code",
   "execution_count": 46,
   "metadata": {},
   "outputs": [
    {
     "data": {
      "text/plain": [
       "<tracemalloc.Snapshot at 0x58f5358>"
      ]
     },
     "execution_count": 46,
     "metadata": {},
     "output_type": "execute_result"
    }
   ],
   "source": [
    "snapshot"
   ]
  },
  {
   "cell_type": "code",
   "execution_count": 47,
   "metadata": {},
   "outputs": [
    {
     "name": "stdout",
     "output_type": "stream",
     "text": [
      "2 memory blocks: 78125.1 KiB\n",
      "  File \"C:\\Users\\Giacomo\\Anaconda3\\lib\\site-packages\\traitlets\\config\\application.py\", line 658\n",
      "    app.start()\n",
      "  File \"C:\\Users\\Giacomo\\Anaconda3\\lib\\site-packages\\ipykernel\\kernelapp.py\", line 505\n",
      "    self.io_loop.start()\n",
      "  File \"C:\\Users\\Giacomo\\Anaconda3\\lib\\site-packages\\tornado\\platform\\asyncio.py\", line 148\n",
      "    self.asyncio_loop.run_forever()\n",
      "  File \"C:\\Users\\Giacomo\\Anaconda3\\lib\\asyncio\\base_events.py\", line 539\n",
      "    self._run_once()\n",
      "  File \"C:\\Users\\Giacomo\\Anaconda3\\lib\\asyncio\\base_events.py\", line 1775\n",
      "    handle._run()\n",
      "  File \"C:\\Users\\Giacomo\\Anaconda3\\lib\\asyncio\\events.py\", line 88\n",
      "    self._context.run(self._callback, *self._args)\n",
      "  File \"C:\\Users\\Giacomo\\Anaconda3\\lib\\site-packages\\tornado\\ioloop.py\", line 690\n",
      "    lambda f: self._run_callback(functools.partial(callback, future))\n",
      "  File \"C:\\Users\\Giacomo\\Anaconda3\\lib\\site-packages\\tornado\\ioloop.py\", line 743\n",
      "    ret = callback()\n",
      "  File \"C:\\Users\\Giacomo\\Anaconda3\\lib\\site-packages\\tornado\\gen.py\", line 781\n",
      "    self.run()\n",
      "  File \"C:\\Users\\Giacomo\\Anaconda3\\lib\\site-packages\\tornado\\gen.py\", line 742\n",
      "    yielded = self.gen.send(value)\n",
      "  File \"C:\\Users\\Giacomo\\Anaconda3\\lib\\site-packages\\ipykernel\\kernelbase.py\", line 357\n",
      "    yield gen.maybe_future(dispatch(*args))\n",
      "  File \"C:\\Users\\Giacomo\\Anaconda3\\lib\\site-packages\\tornado\\gen.py\", line 209\n",
      "    yielded = next(result)\n",
      "  File \"C:\\Users\\Giacomo\\Anaconda3\\lib\\site-packages\\ipykernel\\kernelbase.py\", line 267\n",
      "    yield gen.maybe_future(handler(stream, idents, msg))\n",
      "  File \"C:\\Users\\Giacomo\\Anaconda3\\lib\\site-packages\\tornado\\gen.py\", line 209\n",
      "    yielded = next(result)\n",
      "  File \"C:\\Users\\Giacomo\\Anaconda3\\lib\\site-packages\\ipykernel\\kernelbase.py\", line 534\n",
      "    user_expressions, allow_stdin,\n",
      "  File \"C:\\Users\\Giacomo\\Anaconda3\\lib\\site-packages\\tornado\\gen.py\", line 209\n",
      "    yielded = next(result)\n",
      "  File \"C:\\Users\\Giacomo\\Anaconda3\\lib\\site-packages\\ipykernel\\ipkernel.py\", line 294\n",
      "    res = shell.run_cell(code, store_history=store_history, silent=silent)\n",
      "  File \"C:\\Users\\Giacomo\\Anaconda3\\lib\\site-packages\\ipykernel\\zmqshell.py\", line 536\n",
      "    return super(ZMQInteractiveShell, self).run_cell(*args, **kwargs)\n",
      "  File \"C:\\Users\\Giacomo\\Anaconda3\\lib\\site-packages\\IPython\\core\\interactiveshell.py\", line 2848\n",
      "    raw_cell, store_history, silent, shell_futures)\n",
      "  File \"C:\\Users\\Giacomo\\Anaconda3\\lib\\site-packages\\IPython\\core\\interactiveshell.py\", line 2874\n",
      "    return runner(coro)\n",
      "  File \"C:\\Users\\Giacomo\\Anaconda3\\lib\\site-packages\\IPython\\core\\async_helpers.py\", line 67\n",
      "    coro.send(None)\n",
      "  File \"C:\\Users\\Giacomo\\Anaconda3\\lib\\site-packages\\IPython\\core\\interactiveshell.py\", line 3049\n",
      "    interactivity=interactivity, compiler=compiler, result=result)\n",
      "  File \"C:\\Users\\Giacomo\\Anaconda3\\lib\\site-packages\\IPython\\core\\interactiveshell.py\", line 3214\n",
      "    if (yield from self.run_code(code, result)):\n",
      "  File \"C:\\Users\\Giacomo\\Anaconda3\\lib\\site-packages\\IPython\\core\\interactiveshell.py\", line 3296\n",
      "    exec(code_obj, self.user_global_ns, self.user_ns)\n",
      "  File \"<ipython-input-45-9bd97a50f664>\", line 12\n",
      "    hh = np.random.random((10000,1000))\n"
     ]
    }
   ],
   "source": [
    "top_stats\n",
    "stat = top_stats[0]\n",
    "print(\"%s memory blocks: %.1f KiB\" % (stat.count, stat.size / 1024))\n",
    "for line in stat.traceback.format():\n",
    "    print(line)"
   ]
  },
  {
   "cell_type": "code",
   "execution_count": null,
   "metadata": {},
   "outputs": [],
   "source": [
    "@misc{US54692537:online,\n",
    "author = {},\n",
    "title = {US5469259A - Inspection interferometer with scanning autofocus, and phase angle control features - Google Patents},\n",
    "howpublished = {\\url{https://patents.google.com/patent/US5469259A/en}},\n",
    "month = {},\n",
    "year = {},\n",
    "note = {(Accessed on 08/19/2019)}\n",
    "}"
   ]
  }
 ],
 "metadata": {
  "celltoolbar": "Visualize",
  "kernelspec": {
   "display_name": "Python 3",
   "language": "python",
   "name": "python3"
  },
  "language_info": {
   "codemirror_mode": {
    "name": "ipython",
    "version": 3
   },
   "file_extension": ".py",
   "mimetype": "text/x-python",
   "name": "python",
   "nbconvert_exporter": "python",
   "pygments_lexer": "ipython3",
   "version": "3.6.8"
  }
 },
 "nbformat": 4,
 "nbformat_minor": 2
}
