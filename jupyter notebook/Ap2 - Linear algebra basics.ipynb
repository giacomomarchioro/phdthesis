{
 "cells": [
  {
   "cell_type": "markdown",
   "metadata": {},
   "source": [
    "# Basics Linear Algebra\n",
    "\n",
    "To understand many operation performed on surfaces and profiles a minimum knowledge of vectors and linear algebra is required\n",
    "\n",
    "## Vectors\n",
    "Vectors are in fact point in an abstract n-dimensional space. Hence vectors can describe a lot of things: drawing, 3D model for computer graphics, electric signals etc. etc.   Because they are points, we can described them using different forms, for instance as a ordered sequence of number. A point can be defined in a two dimensional space with a tuple, like (2,3) where the first term indicate the position on the x axis and the second term the position on the y axis. However, many time we define points as vector because we want to specify a set of operations to manipulate these kind of object. In physics usually vector are visualized as arrows but this is actually only a way to visualize them. In this case you could define their lenght (called **modulo** and the angle the **direction** as a tuple but we will use the previous definition at the begining were each number describe the x and y in a cartesian plane."
   ]
  },
  {
   "cell_type": "code",
   "execution_count": null,
   "metadata": {},
   "outputs": [],
   "source": [
    "import matplotlib.pyplot as plt\n",
    "a = (2,3)"
   ]
  },
  {
   "cell_type": "markdown",
   "metadata": {},
   "source": [
    "We call each number **component**. In this case we can acces each component using this notation a[0] for the first component _x_ and a[1] for the second component _y_ ."
   ]
  },
  {
   "cell_type": "code",
   "execution_count": 15,
   "metadata": {},
   "outputs": [
    {
     "data": {
      "text/plain": [
       "<matplotlib.collections.PathCollection at 0x72c3780>"
      ]
     },
     "execution_count": 15,
     "metadata": {},
     "output_type": "execute_result"
    },
    {
     "data": {
      "image/png": "[encoded data removed]",
      "text/plain": [
       "<Figure size 432x288 with 1 Axes>"
      ]
     },
     "metadata": {
      "needs_background": "light"
     },
     "output_type": "display_data"
    }
   ],
   "source": [
    "plt.scatter(a[0],a[1])\n",
    "plt.arrow(0,0,a[0],a[1],head_width=0.2)\n",
    "plt.xlim(0,9)\n",
    "plt.ylim(0,9)\n",
    "plt.scatter(a[0]*2,a[1]*2)"
   ]
  },
  {
   "cell_type": "markdown",
   "metadata": {},
   "source": [
    "Now if we want to define a group of vectors we could write something like this: ((3,4),(5,4),(4,6))\n",
    "Ploting this would be plot each vector separately:"
   ]
  },
  {
   "cell_type": "code",
   "execution_count": 10,
   "metadata": {},
   "outputs": [
    {
     "data": {
      "text/plain": [
       "(0, 9)"
      ]
     },
     "execution_count": 10,
     "metadata": {},
     "output_type": "execute_result"
    },
    {
     "data": {
      "image/png": "[encoded data removed]",
      "text/plain": [
       "<Figure size 432x288 with 1 Axes>"
      ]
     },
     "metadata": {
      "needs_background": "light"
     },
     "output_type": "display_data"
    }
   ],
   "source": [
    "group = ((2,3),(4,3),(3,6))\n",
    "for i in group:\n",
    "    plt.scatter(i[0],i[1])\n",
    "    #plt.arrow(0,0,i[0],i[1],head_width=0.2)\n",
    "\n",
    "plt.xlim(0,9)\n",
    "plt.ylim(0,113)"
   ]
  },
  {
   "cell_type": "markdown",
   "metadata": {},
   "source": [
    "We want to apply the same operation to each vector, for instance the multiplication, we define a variable s = 2 to be used to multiply each vector as we did for the previous example:"
   ]
  },
  {
   "cell_type": "code",
   "execution_count": 14,
   "metadata": {},
   "outputs": [
    {
     "data": {
      "text/plain": [
       "(0, 13)"
      ]
     },
     "execution_count": 14,
     "metadata": {},
     "output_type": "execute_result"
    },
    {
     "data": {
      "image/png": "[encoded data removed]",
      "text/plain": [
       "<Figure size 432x288 with 1 Axes>"
      ]
     },
     "metadata": {
      "needs_background": "light"
     },
     "output_type": "display_data"
    }
   ],
   "source": [
    "group = ((2,3),(4,3),(3,6))\n",
    "s = 2\n",
    "for i in group:\n",
    "    # we multiply each component of the vectory by the variable s (which is 2)\n",
    "    plt.scatter(i[0]*s,i[1]*s,color='r')\n",
    "    # we keep also the previous trianlge\n",
    "    plt.scatter(i[0],i[1],color='gray')\n",
    "    #plt.arrow(0,0,i[0],i[1],head_width=0.2)\n",
    "\n",
    "plt.xlim(0,9)\n",
    "plt.ylim(0,13)"
   ]
  },
  {
   "cell_type": "markdown",
   "metadata": {},
   "source": [
    "We can notice that mutiplying each component of the group of vectors by a number, we have actually scaled the original triangle making it bigger. We call hence **s** scalar, this is actually the [scalar multiplication](https://en.wikipedia.org/wiki/Scalar_multiplication).  We could perform other operation like translate the tringle addin or subtracting to each component a scalar. Like in this example:"
   ]
  },
  {
   "cell_type": "code",
   "execution_count": 16,
   "metadata": {},
   "outputs": [
    {
     "data": {
      "text/plain": [
       "(0, 13)"
      ]
     },
     "execution_count": 16,
     "metadata": {},
     "output_type": "execute_result"
    },
    {
     "data": {
      "image/png": "[encoded data removed]",
      "text/plain": [
       "<Figure size 432x288 with 1 Axes>"
      ]
     },
     "metadata": {
      "needs_background": "light"
     },
     "output_type": "display_data"
    }
   ],
   "source": [
    "s1  = 2\n",
    "for i in group:\n",
    "    # we multiply each component of the vectory by the variable s (which is 2)\n",
    "    plt.scatter(i[0]+s,i[1]+s,color='r')\n",
    "    # we keep also the previous trianlge\n",
    "    plt.scatter(i[0],i[1],color='gray')\n",
    "    #plt.arrow(0,0,i[0],i[1],head_width=0.2)\n",
    "\n",
    "plt.xlim(0,9)\n",
    "plt.ylim(0,13)"
   ]
  },
  {
   "cell_type": "code",
   "execution_count": 1,
   "metadata": {},
   "outputs": [],
   "source": [
    "%load_ext nbtutor"
   ]
  },
  {
   "cell_type": "code",
   "execution_count": 3,
   "metadata": {},
   "outputs": [
    {
     "name": "nbtutor",
     "output_type": "stream",
     "text": []
    }
   ],
   "source": [
    "%%nbtutor\n",
    "a = 10\n",
    "b = 10"
   ]
  },
  {
   "cell_type": "code",
   "execution_count": 27,
   "metadata": {},
   "outputs": [
    {
     "name": "nbtutor",
     "output_type": "stream",
     "text": []
    }
   ],
   "source": [
    "%%nbtutor -r\n",
    "with open(r\"C:\\Users\\Giacomo\\Desktop\\Cold reading.txt\",'rb') as f:\n",
    "    for i in range(10):\n",
    "        g = f.read(1)\n",
    "        print(g)"
   ]
  },
  {
   "cell_type": "code",
   "execution_count": 40,
   "metadata": {},
   "outputs": [
    {
     "name": "nbtutor",
     "output_type": "stream",
     "text": []
    }
   ],
   "source": [
    "%%nbtutor --expand_arrays\n",
    "import numpy as np\n",
    "a = np.random.random((3,3))"
   ]
  },
  {
   "cell_type": "code",
   "execution_count": 39,
   "metadata": {},
   "outputs": [
    {
     "name": "nbtutor",
     "output_type": "stream",
     "text": []
    }
   ],
   "source": [
    "%%nbtutor -r -f\n",
    "a = 3\n",
    "b = 'ciao'\n",
    "d = b[3]\n",
    "def test(r,c):\n",
    "    return r + c\n",
    "h = test(3,a)"
   ]
  },
  {
   "cell_type": "code",
   "execution_count": 45,
   "metadata": {},
   "outputs": [],
   "source": [
    "import tracemalloc\n",
    "\n",
    "# Store 25 frames\n",
    "tracemalloc.start(25)\n",
    "\n",
    "a = 3\n",
    "b = 'ciao'\n",
    "d = b[3]\n",
    "def test(r,c):\n",
    "    return r + c\n",
    "h = test(3,a)\n",
    "hh = np.random.random((10000,1000))\n",
    "snapshot = tracemalloc.take_snapshot()\n",
    "top_stats = snapshot.statistics('traceback')"
   ]
  },
  {
   "cell_type": "code",
   "execution_count": 46,
   "metadata": {},
   "outputs": [
    {
     "data": {
      "text/plain": [
       "<tracemalloc.Snapshot at 0x58f5358>"
      ]
     },
     "execution_count": 46,
     "metadata": {},
     "output_type": "execute_result"
    }
   ],
   "source": [
    "snapshot"
   ]
  },
  {
   "cell_type": "code",
   "execution_count": 47,
   "metadata": {},
   "outputs": [
    {
     "name": "stdout",
     "output_type": "stream",
     "text": [
      "2 memory blocks: 78125.1 KiB\n",
      "  File \"C:\\Users\\Giacomo\\Anaconda3\\lib\\site-packages\\traitlets\\config\\application.py\", line 658\n",
      "    app.start()\n",
      "  File \"C:\\Users\\Giacomo\\Anaconda3\\lib\\site-packages\\ipykernel\\kernelapp.py\", line 505\n",
      "    self.io_loop.start()\n",
      "  File \"C:\\Users\\Giacomo\\Anaconda3\\lib\\site-packages\\tornado\\platform\\asyncio.py\", line 148\n",
      "    self.asyncio_loop.run_forever()\n",
      "  File \"C:\\Users\\Giacomo\\Anaconda3\\lib\\asyncio\\base_events.py\", line 539\n",
      "    self._run_once()\n",
      "  File \"C:\\Users\\Giacomo\\Anaconda3\\lib\\asyncio\\base_events.py\", line 1775\n",
      "    handle._run()\n",
      "  File \"C:\\Users\\Giacomo\\Anaconda3\\lib\\asyncio\\events.py\", line 88\n",
      "    self._context.run(self._callback, *self._args)\n",
      "  File \"C:\\Users\\Giacomo\\Anaconda3\\lib\\site-packages\\tornado\\ioloop.py\", line 690\n",
      "    lambda f: self._run_callback(functools.partial(callback, future))\n",
      "  File \"C:\\Users\\Giacomo\\Anaconda3\\lib\\site-packages\\tornado\\ioloop.py\", line 743\n",
      "    ret = callback()\n",
      "  File \"C:\\Users\\Giacomo\\Anaconda3\\lib\\site-packages\\tornado\\gen.py\", line 781\n",
      "    self.run()\n",
      "  File \"C:\\Users\\Giacomo\\Anaconda3\\lib\\site-packages\\tornado\\gen.py\", line 742\n",
      "    yielded = self.gen.send(value)\n",
      "  File \"C:\\Users\\Giacomo\\Anaconda3\\lib\\site-packages\\ipykernel\\kernelbase.py\", line 357\n",
      "    yield gen.maybe_future(dispatch(*args))\n",
      "  File \"C:\\Users\\Giacomo\\Anaconda3\\lib\\site-packages\\tornado\\gen.py\", line 209\n",
      "    yielded = next(result)\n",
      "  File \"C:\\Users\\Giacomo\\Anaconda3\\lib\\site-packages\\ipykernel\\kernelbase.py\", line 267\n",
      "    yield gen.maybe_future(handler(stream, idents, msg))\n",
      "  File \"C:\\Users\\Giacomo\\Anaconda3\\lib\\site-packages\\tornado\\gen.py\", line 209\n",
      "    yielded = next(result)\n",
      "  File \"C:\\Users\\Giacomo\\Anaconda3\\lib\\site-packages\\ipykernel\\kernelbase.py\", line 534\n",
      "    user_expressions, allow_stdin,\n",
      "  File \"C:\\Users\\Giacomo\\Anaconda3\\lib\\site-packages\\tornado\\gen.py\", line 209\n",
      "    yielded = next(result)\n",
      "  File \"C:\\Users\\Giacomo\\Anaconda3\\lib\\site-packages\\ipykernel\\ipkernel.py\", line 294\n",
      "    res = shell.run_cell(code, store_history=store_history, silent=silent)\n",
      "  File \"C:\\Users\\Giacomo\\Anaconda3\\lib\\site-packages\\ipykernel\\zmqshell.py\", line 536\n",
      "    return super(ZMQInteractiveShell, self).run_cell(*args, **kwargs)\n",
      "  File \"C:\\Users\\Giacomo\\Anaconda3\\lib\\site-packages\\IPython\\core\\interactiveshell.py\", line 2848\n",
      "    raw_cell, store_history, silent, shell_futures)\n",
      "  File \"C:\\Users\\Giacomo\\Anaconda3\\lib\\site-packages\\IPython\\core\\interactiveshell.py\", line 2874\n",
      "    return runner(coro)\n",
      "  File \"C:\\Users\\Giacomo\\Anaconda3\\lib\\site-packages\\IPython\\core\\async_helpers.py\", line 67\n",
      "    coro.send(None)\n",
      "  File \"C:\\Users\\Giacomo\\Anaconda3\\lib\\site-packages\\IPython\\core\\interactiveshell.py\", line 3049\n",
      "    interactivity=interactivity, compiler=compiler, result=result)\n",
      "  File \"C:\\Users\\Giacomo\\Anaconda3\\lib\\site-packages\\IPython\\core\\interactiveshell.py\", line 3214\n",
      "    if (yield from self.run_code(code, result)):\n",
      "  File \"C:\\Users\\Giacomo\\Anaconda3\\lib\\site-packages\\IPython\\core\\interactiveshell.py\", line 3296\n",
      "    exec(code_obj, self.user_global_ns, self.user_ns)\n",
      "  File \"<ipython-input-45-9bd97a50f664>\", line 12\n",
      "    hh = np.random.random((10000,1000))\n"
     ]
    }
   ],
   "source": [
    "top_stats\n",
    "stat = top_stats[0]\n",
    "print(\"%s memory blocks: %.1f KiB\" % (stat.count, stat.size / 1024))\n",
    "for line in stat.traceback.format():\n",
    "    print(line)"
   ]
  },
  {
   "cell_type": "code",
   "execution_count": null,
   "metadata": {},
   "outputs": [],
   "source": [
    "@misc{US54692537:online,\n",
    "author = {},\n",
    "title = {US5469259A - Inspection interferometer with scanning autofocus, and phase angle control features - Google Patents},\n",
    "howpublished = {\\url{https://patents.google.com/patent/US5469259A/en}},\n",
    "month = {},\n",
    "year = {},\n",
    "note = {(Accessed on 08/19/2019)}\n",
    "}"
   ]
  }
 ],
 "metadata": {
  "celltoolbar": "Visualize",
  "kernelspec": {
   "display_name": "Python 3",
   "language": "python",
   "name": "python3"
  },
  "language_info": {
   "codemirror_mode": {
    "name": "ipython",
    "version": 3
   },
   "file_extension": ".py",
   "mimetype": "text/x-python",
   "name": "python",
   "nbconvert_exporter": "python",
   "pygments_lexer": "ipython3",
   "version": "3.7.3"
  }
 },
 "nbformat": 4,
 "nbformat_minor": 2
}
