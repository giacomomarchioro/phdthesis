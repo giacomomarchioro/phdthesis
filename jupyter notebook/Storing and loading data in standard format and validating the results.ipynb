{
 "cells": [
  {
   "cell_type": "markdown",
   "metadata": {},
   "source": [
    "# Storing and loading data in a common format\n",
    "To ease to process of comparing and elaborating the topography of surface in the last decades, several consotia have proposed standards for storing the data of profiles and surfaces."
   ]
  },
  {
   "cell_type": "code",
   "execution_count": 1,
   "metadata": {},
   "outputs": [],
   "source": [
    "from __future__ import print_function\n",
    "import os \n",
    "import numpy as np\n",
    "import matplotlib.pyplot as plt"
   ]
  },
  {
   "cell_type": "markdown",
   "metadata": {},
   "source": [
    "# NIST reference software\n",
    "The NIST provides a set of reference profiles and surfaces with computed parameters following different standards. We can find reference profiles  [2D Virtual SRM Database](https://physics.nist.gov/VSC/jsp/Database.jsp?start=0&end=40&constraint=General+Search&searchCriteria=&SearchAction=mo) and reference areal measurments\n",
    "[3D Virtual SRM Database](https://physics.nist.gov/3DVSC/jsp/Database3D.jsp). For each reference profile are computed metrological parameters after different filtriations. We will test our calaculation on the reference profiles as they are \"raw profiles\" and onRoughness and Waviness (Lc = 0.08mm)- Calculation based on ISO 4287 and ISO 4288 Standards profiles."
   ]
  },
  {
   "cell_type": "code",
   "execution_count": 52,
   "metadata": {},
   "outputs": [
    {
     "data": {
      "text/plain": [
       "[<ZipInfo filename='D_cors.sdf' compress_type=deflate file_size=89485 compress_size=25967>,\n",
       " <ZipInfo filename='D_cors.smd' compress_type=deflate file_size=97458 compress_size=26621>,\n",
       " <ZipInfo filename='surface_parameters.txt' compress_type=deflate file_size=1482 compress_size=647>,\n",
       " <ZipInfo filename='data.dtd' compress_type=deflate file_size=13945 compress_size=2904>,\n",
       " <ZipInfo filename='data.xml' compress_type=deflate file_size=91479 compress_size=27012>,\n",
       " <ZipInfo filename='data.xsl' compress_type=deflate file_size=8913 compress_size=1577>]"
      ]
     },
     "execution_count": 52,
     "metadata": {},
     "output_type": "execute_result"
    }
   ],
   "source": [
    "import requests, zipfile, io\n",
    "zip_file_url = r\"https://physics.nist.gov/VSC/Data/Database/zip/data_195.zip\"\n",
    "r = requests.get(zip_file_url, stream=True)\n",
    "z = zipfile.ZipFile(io.BytesIO(r.content))\n",
    "z.filelist"
   ]
  },
  {
   "cell_type": "markdown",
   "metadata": {},
   "source": [
    "## The sdf file\n",
    "The sdf file format is a standard file format used in surface metrology. Here we will see what it looks like."
   ]
  },
  {
   "cell_type": "code",
   "execution_count": 98,
   "metadata": {},
   "outputs": [
    {
     "name": "stdout",
     "output_type": "stream",
     "text": [
      "b'aNIST-1.0\n",
      "ManufacID\\t\\t= D_cors\n",
      "CreateDate\\t\\t= 010620090704\n",
      "ModDate\\t\\t= 010620090704\n",
      "NumPoints\\t\\t= 8000\n",
      "NumProfiles\\t\\t= 1\n",
      "Xscale\\t\\t= 0.5e-6\n",
      "Yscale\\t\\t= 0\n",
      "Zscale\\t\\t= 1.0e-6\n",
      "Zresolution\\t\\t= -1.0\n",
      "Compression\\t\\t= 0\n",
      "DataType\\t\\t= 7\n",
      "CheckType\\t\\t= 0\n",
      "*\n",
      "\n",
      "-1.7214\n",
      "-1.7684000000000002\n"
     ]
    }
   ],
   "source": [
    "sdf = z.read('D_cors.sdf')\n",
    "sdfstr = str(sdf).split(\"\\\\n\")\n",
    "for i in range(17):\n",
    "    print(sdfstr[i])"
   ]
  },
  {
   "cell_type": "markdown",
   "metadata": {},
   "source": [
    "The file is composed by an header and the data is between two asterisks *, the first followed by a blank line. So to extract the data we will have to skip all the header until we find the blank line and skip the last line. We can build a simple importer of the .sdf file as follow:"
   ]
  },
  {
   "cell_type": "code",
   "execution_count": 4,
   "metadata": {},
   "outputs": [],
   "source": [
    "def read_sdffile(sdf):\n",
    "    sdffile = {}\n",
    "    field1 = None\n",
    "    header = 0\n",
    "    while field1 is not \"\":\n",
    "        fields = next(f).strip().split('=')\n",
    "        if len(fields) > 1:\n",
    "            field1,field2 = fields\n",
    "            sdffile[field1.strip()] = field2\n",
    "        else:\n",
    "            field1,field2 = fields[0],None\n",
    "            header+=1\n",
    "    sdffile['data'] = np.genfromtxt(filepath,skip_footer=1,skip_header=header)\n",
    "    return sdffile"
   ]
  },
  {
   "cell_type": "code",
   "execution_count": 106,
   "metadata": {},
   "outputs": [],
   "source": [
    "%qtconsole"
   ]
  },
  {
   "cell_type": "code",
   "execution_count": 135,
   "metadata": {},
   "outputs": [],
   "source": [
    "def read_sdfbuffer(filebuffer):\n",
    "    sdfstr = iter(str(sdf).split(\"\\\\n\"))\n",
    "    sdffile = {}\n",
    "    field1 = None\n",
    "    header = 0\n",
    "    while field1 is not \"\":\n",
    "        fields = next(sdfstr).strip().split('=')\n",
    "        print(fields)\n",
    "        if len(fields) > 1:\n",
    "            field1,field2 = fields\n",
    "            sdffile[field1.strip(\"\\\\t\")] = field2\n",
    "        else:\n",
    "            field1,field2 = fields[0],None\n",
    "        header+=1\n",
    "    data = []\n",
    "    field2 = next(sdfstr)\n",
    "    while field2 is not \"*\":\n",
    "        data.append(np.float(field2))\n",
    "        field2 = next(sdfstr)\n",
    "    sdffile['data'] = np.array(data)\n",
    "    return sdffile"
   ]
  },
  {
   "cell_type": "code",
   "execution_count": 5,
   "metadata": {},
   "outputs": [],
   "source": [
    "myfile = read_sdfbuffer(filepath)"
   ]
  },
  {
   "cell_type": "code",
   "execution_count": 6,
   "metadata": {},
   "outputs": [
    {
     "data": {
      "text/plain": [
       "dict_keys(['ManufacID', 'CreateDate', 'ModDate', 'NumPoints', 'NumProfiles', 'Xscale', 'Yscale', 'Zscale', 'Zresolution', 'Compression', 'DataType', 'CheckType', 'data'])"
      ]
     },
     "execution_count": 6,
     "metadata": {},
     "output_type": "execute_result"
    }
   ],
   "source": [
    "myfile.keys()"
   ]
  },
  {
   "cell_type": "code",
   "execution_count": 7,
   "metadata": {},
   "outputs": [
    {
     "data": {
      "text/plain": [
       "array([-0.0344, -0.0206, -0.0068, ..., -0.1636, -0.1346,  0.    ])"
      ]
     },
     "execution_count": 7,
     "metadata": {},
     "output_type": "execute_result"
    }
   ],
   "source": [
    "myfile['data']"
   ]
  },
  {
   "cell_type": "code",
   "execution_count": 8,
   "metadata": {},
   "outputs": [
    {
     "data": {
      "text/plain": [
       "[<matplotlib.lines.Line2D at 0x119cfb6a0>]"
      ]
     },
     "execution_count": 8,
     "metadata": {},
     "output_type": "execute_result"
    },
    {
     "data": {
      "image/png": "[encoded data removed]",
      "text/plain": [
       "<Figure size 432x288 with 1 Axes>"
      ]
     },
     "metadata": {
      "needs_background": "light"
     },
     "output_type": "display_data"
    }
   ],
   "source": [
    "plt.plot(myfile['data'])"
   ]
  },
  {
   "cell_type": "code",
   "execution_count": 42,
   "metadata": {},
   "outputs": [
    {
     "data": {
      "text/plain": [
       "0.1903655190869468"
      ]
     },
     "execution_count": 42,
     "metadata": {},
     "output_type": "execute_result"
    }
   ],
   "source": [
    "np.std(myfile['data'])"
   ]
  },
  {
   "cell_type": "code",
   "execution_count": 43,
   "metadata": {},
   "outputs": [
    {
     "data": {
      "text/plain": [
       "3.8745156855791214e-07"
      ]
     },
     "execution_count": 43,
     "metadata": {},
     "output_type": "execute_result"
    }
   ],
   "source": [
    "np.average(myfile['data'])"
   ]
  },
  {
   "cell_type": "code",
   "execution_count": 44,
   "metadata": {},
   "outputs": [
    {
     "data": {
      "text/plain": [
       "0.6974"
      ]
     },
     "execution_count": 44,
     "metadata": {},
     "output_type": "execute_result"
    }
   ],
   "source": [
    "np.max(myfile['data'])"
   ]
  },
  {
   "cell_type": "markdown",
   "metadata": {},
   "source": [
    "However, it is not handy to compare all the reference values with our calculation in this way. So we will take advantage of the xml file provided by NIST.\n",
    "## The xml version\n",
    "From our zip file we extract the data.xml file and we print it."
   ]
  },
  {
   "cell_type": "code",
   "execution_count": 198,
   "metadata": {},
   "outputs": [
    {
     "data": {
      "text/plain": [
       "bytes"
      ]
     },
     "execution_count": 198,
     "metadata": {},
     "output_type": "execute_result"
    }
   ],
   "source": [
    "sdfxml = z.read('data.xml')\n",
    "print(sdfxml)"
   ]
  },
  {
   "cell_type": "code",
   "execution_count": 199,
   "metadata": {},
   "outputs": [],
   "source": [
    "from lxml import etree,objectify\n",
    "xmltree = etree.fromstring(sdfxml)"
   ]
  },
  {
   "cell_type": "markdown",
   "metadata": {},
   "source": [
    "To get an insight on the structure of the xml file we define a recursive function for prining the moduels"
   ]
  },
  {
   "cell_type": "code",
   "execution_count": 200,
   "metadata": {},
   "outputs": [],
   "source": [
    "def prettyprint(obj,currentlevel=0):\n",
    "    for i in obj:\n",
    "        print(\"  \"*currentlevel+str(i.tag))\n",
    "        prettyprint(i,currentlevel+1)"
   ]
  },
  {
   "cell_type": "code",
   "execution_count": 201,
   "metadata": {},
   "outputs": [
    {
     "name": "stdout",
     "output_type": "stream",
     "text": [
      "PART\n",
      "  PART_NAME\n",
      "  PART_DATE\n",
      "  PART_MANUFACTURER\n",
      "  PART_DESCRIPTION\n",
      "PROCESS\n",
      "  PROCESS_NAME\n",
      "MEASUREMENT\n",
      "  MEASUREMENT_INSTRUMENT_TYPE\n",
      "DATAFILE\n",
      "  FILENAME\n",
      "  UNITS\n",
      "  NUMPOINTS\n",
      "  SPACING\n",
      "  KCAL\n",
      "  DATA_TYPE\n",
      "  DATA_POINT_VALUES\n",
      "ANALYSIS\n",
      "  CURVATURE_REMOVAL\n",
      "    LSQ_COEFF\n",
      "  FILTER\n",
      "    FILTER_TYPE\n",
      "    LONG_CUTOFF\n",
      "    UNITS\n",
      "    METHOD\n",
      "    SHORT_CUTOFF_PROFILE\n",
      "      SHORT_CUTOFF_PROFILE_SURFACE_PARAMETERS\n",
      "        PA\n",
      "        PQ\n",
      "        PSK\n",
      "        PKU\n",
      "        PZ\n",
      "        PDq\n",
      "        PSm\n",
      "        Pc\n",
      "        Pt\n",
      "        Pp\n",
      "        Pv\n",
      "        UNITS\n",
      "        SM_SETTING\n",
      "        PC_SETTING\n",
      "      SHORT_CUTOFF_PROFILE_NUMBPOINTS\n",
      "      SHORT_CUTOFF_PROFILE_DATA_POINT_VALUES\n",
      "    LSQ_REMOVED_PROFILE\n",
      "    RAW_PROFILE\n",
      "      RAW_PROFILE_SURFACE_PARAMETERS\n",
      "        PA\n",
      "        PQ\n",
      "        PSK\n",
      "        PKU\n",
      "        PZ\n",
      "        PDq\n",
      "        PSm\n",
      "        Pc\n",
      "        Pt\n",
      "        Pp\n",
      "        Pv\n",
      "        UNITS\n",
      "        SM_SETTING\n",
      "        PC_SETTING\n",
      "    ROUGHNESS\n",
      "      ROUGHNESS_SURFACE_PARAMETERS\n",
      "        RA\n",
      "        RQ\n",
      "        RSK\n",
      "        RKU\n",
      "        RZ\n",
      "        RDq\n",
      "        RSm\n",
      "        Rc\n",
      "        Rt\n",
      "        Rp\n",
      "        Rv\n",
      "        UNITS\n",
      "        CALCULATION_TYPE\n",
      "        SM_SETTING\n",
      "        PC_SETTING\n",
      "      ROUGHNESS_NUMPOINTS\n",
      "      ROUGHNESS_DATA_POINT_VALUES\n",
      "    WAVINESS\n",
      "      WAVINESS_SURFACE_PARAMETERS\n",
      "        WA\n",
      "        WQ\n",
      "        WSK\n",
      "        WKU\n",
      "        WZ\n",
      "        WDq\n",
      "        WSm\n",
      "        Wc\n",
      "        Wt\n",
      "        Wp\n",
      "        Wv\n",
      "        UNITS\n",
      "        CALCULATION_TYPE\n",
      "        SM_SETTING\n",
      "        PC_SETTING\n",
      "      WAVINESS_NUMPOINTS\n",
      "      WAVINESS_DATA_POINT_VALUES\n"
     ]
    }
   ],
   "source": [
    "prettyprint(xmltree)"
   ]
  },
  {
   "cell_type": "markdown",
   "metadata": {},
   "source": [
    "We can see that the files contains for each profile its parameters, we are now interest in RAW parameters. For accessing the easely we use the objectify function of lxml module. The data are in DATAFILE.DATA_POINT_VALUES."
   ]
  },
  {
   "cell_type": "code",
   "execution_count": 264,
   "metadata": {},
   "outputs": [
    {
     "name": "stdout",
     "output_type": "stream",
     "text": [
      "Spacing: 0.5 Num. points: 8000\n",
      "[0.00000000e+00 5.00125016e-01 1.00025003e+00 ... 3.99949975e+03\n",
      " 3.99999987e+03 4.00050000e+03]\n"
     ]
    },
    {
     "data": {
      "text/plain": [
       "array([0.0000e+00, 5.0000e-01, 1.0000e+00, ..., 3.9985e+03, 3.9990e+03,\n",
       "       3.9995e+03])"
      ]
     },
     "execution_count": 264,
     "metadata": {},
     "output_type": "execute_result"
    }
   ],
   "source": [
    "g = objectify.fromstring(sdfxml)\n",
    "datastr = g.DATAFILE.DATA_POINT_VALUES\n",
    "rawparams = g.ANALYSIS.FILTER.RAW_PROFILE.RAW_PROFILE_SURFACE_PARAMETERS\n",
    "spacing = float(g.DATAFILE.SPACING)\n",
    "numpoints = int(g.DATAFILE.NUMPOINTS)\n",
    "print(\"Spacing: %s Num. points: %s\" %(spacing,numpoints))"
   ]
  },
  {
   "cell_type": "markdown",
   "metadata": {},
   "source": [
    "The datastr is a string object so we have to convert it to an array so that we can use it for latter processing. In this case the last value is a whitespace we have to ignore it."
   ]
  },
  {
   "cell_type": "code",
   "execution_count": 245,
   "metadata": {},
   "outputs": [],
   "source": [
    "data = np.array(datastr.text.split('\\n')[:-1],dtype=np.float)\n",
    "results = {}"
   ]
  },
  {
   "cell_type": "code",
   "execution_count": 249,
   "metadata": {},
   "outputs": [
    {
     "data": {
      "text/plain": [
       "array([], dtype=float64)"
      ]
     },
     "execution_count": 249,
     "metadata": {},
     "output_type": "execute_result"
    }
   ],
   "source": [
    "np.linspace(0,numpoints*spacing,spacing)"
   ]
  },
  {
   "cell_type": "code",
   "execution_count": 266,
   "metadata": {},
   "outputs": [
    {
     "data": {
      "text/plain": [
       "Text(0, 0.5, 'um')"
      ]
     },
     "execution_count": 266,
     "metadata": {},
     "output_type": "execute_result"
    },
    {
     "data": {
      "image/png": "[encoded data removed]",
      "text/plain": [
       "<Figure size 432x288 with 1 Axes>"
      ]
     },
     "metadata": {
      "needs_background": "light"
     },
     "output_type": "display_data"
    }
   ],
   "source": [
    "plt.plot(np.arange(0,numpoints)*spacing,data)\n",
    "plt.ylabel(g.DATAFILE.UNITS)"
   ]
  },
  {
   "cell_type": "code",
   "execution_count": 231,
   "metadata": {},
   "outputs": [
    {
     "name": "stdout",
     "output_type": "stream",
     "text": [
      "Calculated: 1.8537462086822432 Reference: 1.85375 Error: :3.7913177568515977e-06\n"
     ]
    }
   ],
   "source": [
    "cal = np.std(data)\n",
    "ref = rawparams.PQ\n",
    "results['PQ'] = (cal,ref)\n",
    "print(\"Calculated: %s Reference: %s Error: :%s\" %(cal,ref,ref-cal))"
   ]
  },
  {
   "cell_type": "code",
   "execution_count": 233,
   "metadata": {},
   "outputs": [
    {
     "name": "stdout",
     "output_type": "stream",
     "text": [
      "Calculated: 1.50006325 Reference: 1.50006 Error: :-3.250000000010189e-06\n"
     ]
    }
   ],
   "source": [
    "cal = np.average(np.abs(data))\n",
    "ref = rawparams.PA\n",
    "results['PA'] = (cal,ref)\n",
    "print(\"Calculated: %s Reference: %s Error: :%s\" %(cal,ref,ref-cal))"
   ]
  },
  {
   "cell_type": "code",
   "execution_count": 235,
   "metadata": {},
   "outputs": [
    {
     "name": "stdout",
     "output_type": "stream",
     "text": [
      "Calculated: 2.870416074414996 Reference: 2.87041 Error: :-6.074414995893562e-06\n"
     ]
    }
   ],
   "source": [
    "from scipy import stats\n",
    "cal = stats.kurtosis(data,fisher=False)\n",
    "ref = rawparams.PKU\n",
    "results['PKU'] = (cal,ref)\n",
    "print(\"Calculated: %s Reference: %s Error: :%s\" %(cal,ref,ref-cal))"
   ]
  },
  {
   "cell_type": "code",
   "execution_count": 236,
   "metadata": {},
   "outputs": [
    {
     "name": "stdout",
     "output_type": "stream",
     "text": [
      "Calculated: 0.46146583806376545 Reference: 0.46146 Error: :-5.838063765473134e-06\n"
     ]
    }
   ],
   "source": [
    "cal = stats.skew(data)\n",
    "ref = rawparams.PSK\n",
    "results['PSK'] = (cal,ref)\n",
    "print(\"Calculated: %s Reference: %s Error: :%s\" %(cal,ref,ref-cal))"
   ]
  },
  {
   "cell_type": "code",
   "execution_count": 267,
   "metadata": {},
   "outputs": [
    {
     "name": "stdout",
     "output_type": "stream",
     "text": [
      "Calculated: 3.2626 Reference: 3.2626 Error: :0.0\n"
     ]
    }
   ],
   "source": [
    "# Maximum profile valley\n",
    "cal = abs(np.min(data))\n",
    "ref = rawparams.Pv\n",
    "results['Pv'] = (cal,ref)\n",
    "print(\"Calculated: %s Reference: %s Error: :%s\" %(cal,ref,ref-cal))"
   ]
  },
  {
   "cell_type": "code",
   "execution_count": 269,
   "metadata": {},
   "outputs": [
    {
     "name": "stdout",
     "output_type": "stream",
     "text": [
      "Calculated: 5.3837 Reference: 5.3837 Error: :0.0\n"
     ]
    }
   ],
   "source": [
    "# Maximum profile peak\n",
    "cal = abs(np.max(data))\n",
    "ref = rawparams.Pp\n",
    "results['Pp'] = (cal,ref)\n",
    "print(\"Calculated: %s Reference: %s Error: :%s\" %(cal,ref,ref-cal))"
   ]
  },
  {
   "cell_type": "code",
   "execution_count": 239,
   "metadata": {},
   "outputs": [
    {
     "name": "stdout",
     "output_type": "stream",
     "text": [
      "Calculated: 8.6463 Reference: 8.6463 Error: :0.0\n"
     ]
    }
   ],
   "source": [
    "cal = abs(np.min(data)) + abs(np.max(data))\n",
    "ref = rawparams.PZ\n",
    "results['PZ'] = (cal,ref)\n",
    "print(\"Calculated: %s Reference: %s Error: :%s\" %(cal,ref,ref-cal))"
   ]
  },
  {
   "cell_type": "code",
   "execution_count": 240,
   "metadata": {},
   "outputs": [
    {
     "name": "stdout",
     "output_type": "stream",
     "text": [
      "Calculated: 5.3837 Reference: 8.6463 Error: :3.2626\n"
     ]
    }
   ],
   "source": [
    "cal = abs(np.min(data)) + abs(np.max(data))\n",
    "ref = rawparams.Pt\n",
    "results['Pt'] = (cal,ref)\n",
    "print(\"Calculated: %s Reference: %s Error: :%s\" %(cal,ref,ref-cal))"
   ]
  },
  {
   "cell_type": "code",
   "execution_count": 270,
   "metadata": {},
   "outputs": [],
   "source": [
    "from scipy.signal import find_peaks\n",
    "find_peaks"
   ]
  },
  {
   "cell_type": "code",
   "execution_count": null,
   "metadata": {},
   "outputs": [],
   "source": []
  }
 ],
 "metadata": {
  "kernelspec": {
   "display_name": "Python 3",
   "language": "python",
   "name": "python3"
  },
  "language_info": {
   "codemirror_mode": {
    "name": "ipython",
    "version": 3
   },
   "file_extension": ".py",
   "mimetype": "text/x-python",
   "name": "python",
   "nbconvert_exporter": "python",
   "pygments_lexer": "ipython3",
   "version": "3.6.8"
  }
 },
 "nbformat": 4,
 "nbformat_minor": 2
}
